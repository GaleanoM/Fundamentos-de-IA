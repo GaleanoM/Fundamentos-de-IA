{
  "nbformat": 4,
  "nbformat_minor": 0,
  "metadata": {
    "colab": {
      "provenance": [],
      "authorship_tag": "ABX9TyMZ/4JMADs3Ue+2SLNzxX6E",
      "include_colab_link": true
    },
    "kernelspec": {
      "name": "python3",
      "display_name": "Python 3"
    },
    "language_info": {
      "name": "python"
    }
  },
  "cells": [
    {
      "cell_type": "markdown",
      "metadata": {
        "id": "view-in-github",
        "colab_type": "text"
      },
      "source": [
        "<a href=\"https://colab.research.google.com/github/GaleanoM/Fundamentos-de-IA/blob/main/Galeano_Martinez_Luis_Fernando_ExamenU1ipynb.ipynb\" target=\"_parent\"><img src=\"https://colab.research.google.com/assets/colab-badge.svg\" alt=\"Open In Colab\"/></a>"
      ]
    },
    {
      "cell_type": "markdown",
      "source": [
        "# Nombre:Luis Fernando Galeano Martinez\n",
        "# Titulo:Examen U1\n",
        "# Maestra:Jessica Sarahí Méndez Rincón\n",
        "# Materia:Fundamentos de Inteligencia Artificial\n",
        "# Cuarto Semestre IA"
      ],
      "metadata": {
        "id": "gisoNTLHB8g3"
      }
    },
    {
      "cell_type": "code",
      "source": [
        "# Ejercicio 1 Numeros primos\n",
        "def es_primo(numero):\n",
        "    if numero <= 1:\n",
        "        return False\n",
        "    elif numero <= 3:\n",
        "        return True\n",
        "    elif numero % 2 == 0 or numero % 3 == 0:\n",
        "        return False\n",
        "    i = 5\n",
        "    while i * i <= numero:\n",
        "        if numero % i == 0 or numero % (i + 2) == 0:\n",
        "            return False\n",
        "        i += 6\n",
        "    return True\n",
        "\n",
        "if __name__ == \"__main__\":\n",
        "    try:\n",
        "        numero = int(input(\"Ingrese un número entero: \"))\n",
        "        if es_primo(numero):\n",
        "            print(f\"{numero} es un número primo.\")\n",
        "        else:\n",
        "            print(f\"{numero} no es un número primo.\")\n",
        "    except ValueError:\n",
        "        print(\"Entrada inválida. Por favor, ingrese un número entero válido.\")"
      ],
      "metadata": {
        "colab": {
          "base_uri": "https://localhost:8080/"
        },
        "id": "fKjPanL3COwP",
        "outputId": "8e68b649-735c-4bff-d262-17c260b31a31"
      },
      "execution_count": 1,
      "outputs": [
        {
          "output_type": "stream",
          "name": "stdout",
          "text": [
            "Ingrese un número entero: 5\n",
            "5 es un número primo.\n"
          ]
        }
      ]
    },
    {
      "cell_type": "code",
      "source": [
        "# Ejercicio 2 Next Prime\n",
        "def es_primo(numero):\n",
        "    if numero <= 1:\n",
        "        return False\n",
        "    elif numero <= 3:\n",
        "        return True\n",
        "    elif numero % 2 == 0 or numero % 3 == 0:\n",
        "        return False\n",
        "    i = 5\n",
        "    while i * i <= numero:\n",
        "        if numero % i == 0 or numero % (i + 2) == 0:\n",
        "            return False\n",
        "        i += 6\n",
        "    return True\n",
        "\n",
        "def nextPrime(n):\n",
        "    if n <= 1:\n",
        "        n = 2  # El primer número primo es 2\n",
        "    else:\n",
        "        n += 1  # Comenzamos la búsqueda desde el siguiente número\n",
        "    while True:\n",
        "        if es_primo(n):  # Cambio de is_prime a es_primo\n",
        "            return n\n",
        "        n += 1\n",
        "\n",
        "if __name__ == \"__main__\":\n",
        "    try:\n",
        "        numero = int(input(\"Ingrese un número entero: \"))\n",
        "        if es_primo(numero):\n",
        "            print(f\"{numero} es un número primo.\")\n",
        "        else:\n",
        "            print(f\"{numero} no es un número primo.\")\n",
        "    except ValueError:\n",
        "        print(\"Entrada inválida. Por favor, ingrese un número entero válido.\")\n",
        "\n",
        "    try:\n",
        "        num = int(input(\"Ingrese un número entero: \"))\n",
        "        if num < 0:\n",
        "            print(\"Por favor, ingrese un número entero positivo.\")\n",
        "        else:\n",
        "            primer_primo_mayor = nextPrime(num)\n",
        "            print(f\"El primer número primo mayor que {num} es {primer_primo_mayor}\")\n",
        "    except ValueError:\n",
        "        print(\"Por favor, ingrese un número entero válido.\")\n"
      ],
      "metadata": {
        "colab": {
          "base_uri": "https://localhost:8080/"
        },
        "id": "yoO69fuLE6kG",
        "outputId": "9e567344-317f-4731-b0a7-0e477260ff34"
      },
      "execution_count": 2,
      "outputs": [
        {
          "output_type": "stream",
          "name": "stdout",
          "text": [
            "Ingrese un número entero: 4\n",
            "4 no es un número primo.\n",
            "Ingrese un número entero: 6\n",
            "El primer número primo mayor que 6 es 7\n"
          ]
        }
      ]
    },
    {
      "cell_type": "code",
      "source": [
        "#Ejercico 3 Median of Three Values\n",
        "def mediana_de_tres(a, b, c):\n",
        "    if a <= b <= c or c <= b <= a:\n",
        "        return b\n",
        "    elif b <= a <= c or c <= a <= b:\n",
        "        return a\n",
        "    else:\n",
        "        return c\n",
        "\n",
        "if __name__ == \"__main__\":\n",
        "    try:\n",
        "        num1 = float(input(\"Ingrese el primer número: \"))\n",
        "        num2 = float(input(\"Ingrese el segundo número: \"))\n",
        "        num3 = float(input(\"Ingrese el tercer número: \"))\n",
        "\n",
        "        mediana = mediana_de_tres(num1, num2, num3)\n",
        "        print(f\"La mediana de los números {num1}, {num2} y {num3} es {mediana}\")\n",
        "    except ValueError:\n",
        "        print(\"Por favor, ingrese números válidos.\")"
      ],
      "metadata": {
        "colab": {
          "base_uri": "https://localhost:8080/"
        },
        "id": "5vQWmxC9GMZ6",
        "outputId": "f71223e5-ce42-4ff6-adb2-117edc5bcf61"
      },
      "execution_count": 3,
      "outputs": [
        {
          "output_type": "stream",
          "name": "stdout",
          "text": [
            "Ingrese el primer número: 45\n",
            "Ingrese el segundo número: 32\n",
            "Ingrese el tercer número: 12\n",
            "La mediana de los números 45.0, 32.0 y 12.0 es 32.0\n"
          ]
        }
      ]
    },
    {
      "cell_type": "code",
      "source": [
        "#Ejercicio 4 Random Password\n",
        "import random\n",
        "\n",
        "def generar_contrasena_aleatoria():\n",
        "    longitud = random.randint(7, 10)  # Generar una longitud aleatoria entre 7 y 10 caracteres\n",
        "    contrasena = \"\"\n",
        "\n",
        "    for _ in range(longitud):\n",
        "        caracter_aleatorio = chr(random.randint(33, 126))  # Generar un carácter aleatorio en el rango ASCII\n",
        "        contrasena += caracter_aleatorio\n",
        "\n",
        "    return contrasena\n",
        "\n",
        "if __name__ == \"__main__\":\n",
        "    contrasena_generada = generar_contrasena_aleatoria()\n",
        "    print(f\"Contraseña generada aleatoriamente: {contrasena_generada}\")"
      ],
      "metadata": {
        "colab": {
          "base_uri": "https://localhost:8080/"
        },
        "id": "twYr-nPCGjt2",
        "outputId": "06701cc9-ad0f-4418-df16-61333f813228"
      },
      "execution_count": 4,
      "outputs": [
        {
          "output_type": "stream",
          "name": "stdout",
          "text": [
            "Contraseña generada aleatoriamente: gS(HjF^\\\n"
          ]
        }
      ]
    },
    {
      "cell_type": "code",
      "source": [
        "#Ejercico 5 Compute the Hypotenuse\n",
        "def calcular_hipotenusa(lado1, lado2):\n",
        "    hipotenusa = (lado1**2 + lado2**2)**0.5  # Aplicación del teorema de Pitágoras\n",
        "    return hipotenusa\n",
        "\n",
        "if __name__ == \"__main__\":\n",
        "    try:\n",
        "        lado1 = float(input(\"Ingrese la longitud del primer lado corto: \"))\n",
        "        lado2 = float(input(\"Ingrese la longitud del segundo lado corto: \"))\n",
        "\n",
        "        hipotenusa = calcular_hipotenusa(lado1, lado2)\n",
        "        print(f\"La longitud de la hipotenusa es: {hipotenusa}\")\n",
        "    except ValueError:\n",
        "        print(\"Por favor, ingrese longitudes válidas.\")\n"
      ],
      "metadata": {
        "colab": {
          "base_uri": "https://localhost:8080/"
        },
        "id": "oZKXXpKyGuL6",
        "outputId": "b63353a5-9837-4601-dca6-e99b5467bf0f"
      },
      "execution_count": 5,
      "outputs": [
        {
          "output_type": "stream",
          "name": "stdout",
          "text": [
            "Ingrese la longitud del primer lado corto: 45\n",
            "Ingrese la longitud del segundo lado corto: 34\n",
            "La longitud de la hipotenusa es: 56.4003546088143\n"
          ]
        }
      ]
    }
  ]
}