{
  "nbformat": 4,
  "nbformat_minor": 0,
  "metadata": {
    "colab": {
      "provenance": [],
      "authorship_tag": "ABX9TyO3GSL5E6qk/dKdK5zYQ2DW",
      "include_colab_link": true
    },
    "kernelspec": {
      "name": "python3",
      "display_name": "Python 3"
    },
    "language_info": {
      "name": "python"
    }
  },
  "cells": [
    {
      "cell_type": "markdown",
      "metadata": {
        "id": "view-in-github",
        "colab_type": "text"
      },
      "source": [
        "<a href=\"https://colab.research.google.com/github/GaleanoM/Fundamentos-de-IA/blob/main/Galeano_Martinez_lLuis_Fernando_Comandos.ipynb\" target=\"_parent\"><img src=\"https://colab.research.google.com/assets/colab-badge.svg\" alt=\"Open In Colab\"/></a>"
      ]
    },
    {
      "cell_type": "code",
      "source": [],
      "metadata": {
        "id": "h2F8j7R6mkgo"
      },
      "execution_count": null,
      "outputs": []
    },
    {
      "cell_type": "markdown",
      "source": [
        "##**Nombre**:Luis Fernando Galeano Martinez\n",
        "##**Titulo**:Comando en Python\n",
        "##**Maestra**:Jessica Sarahí Méndez Rincón\n",
        "##**Materia**:Fundamentos de Inteligencia Artificial\n",
        "##**Cuarto** Semestre IA"
      ],
      "metadata": {
        "id": "3F_Vb2K-ntzk"
      }
    },
    {
      "cell_type": "code",
      "source": [
        "#Operaciones Basicas\n",
        "a=3 + 7\n",
        "print(a)\n",
        "b=10 / 4\n",
        "print(b)\n",
        "c=2**1024\n",
        "print(c)\n"
      ],
      "metadata": {
        "colab": {
          "base_uri": "https://localhost:8080/"
        },
        "id": "gSjKPfMFqi9K",
        "outputId": "20c4998e-dd37-403f-dfb9-eb62afebdb05"
      },
      "execution_count": null,
      "outputs": [
        {
          "output_type": "stream",
          "name": "stdout",
          "text": [
            "10\n",
            "2.5\n",
            "179769313486231590772930519078902473361797697894230657273430081157732675805500963132708477322407536021120113879871393357658789768814416622492847430639474124377767893424865485276302219601246094119453082952085005768838150682342462881473913110540827237163350510684586298239947245938479716304835356329624224137216\n"
          ]
        }
      ]
    },
    {
      "cell_type": "code",
      "source": [
        "##En este codigo aprendemos todas las operaciones matemáticas básicas con numeros enteros\n",
        "a=14\n",
        "b=3\n",
        "c=a+b\n",
        "c=a-b\n",
        "c=a*b\n",
        "c=a/b\n",
        "c=a%b\n",
        "c=a**b\n",
        "print(c)"
      ],
      "metadata": {
        "colab": {
          "base_uri": "https://localhost:8080/"
        },
        "id": "xXH9ueTwn6Kt",
        "outputId": "449917f7-1e0b-4702-edb8-c1c854fdbe2a"
      },
      "execution_count": null,
      "outputs": [
        {
          "output_type": "stream",
          "name": "stdout",
          "text": [
            "2744\n"
          ]
        }
      ]
    },
    {
      "cell_type": "code",
      "source": [
        "##Divicion con numeros negativos\n",
        "a=7\n",
        "b=4\n",
        "c=a/b\n",
        "print(c)\n",
        "c=b/a\n",
        "print(c)\n",
        "c=-a/7\n",
        "print(c)\n",
        "c=-b/a\n",
        "print(c)"
      ],
      "metadata": {
        "colab": {
          "base_uri": "https://localhost:8080/"
        },
        "id": "VREfjHDtpXfH",
        "outputId": "c9535535-b614-4259-dcf0-1962de97ca34"
      },
      "execution_count": null,
      "outputs": [
        {
          "output_type": "stream",
          "name": "stdout",
          "text": [
            "1.75\n",
            "0.5714285714285714\n",
            "-1.0\n",
            "-0.5714285714285714\n"
          ]
        }
      ]
    },
    {
      "cell_type": "code",
      "source": [
        "##Importacion de una funciones y sacar factorial\n",
        "from math import factorial\n",
        "factorial(5)\n"
      ],
      "metadata": {
        "colab": {
          "base_uri": "https://localhost:8080/"
        },
        "id": "E0Y4UOkur90U",
        "outputId": "d3a2ccc4-7dc0-4c17-8126-f6e3ca816e79"
      },
      "execution_count": null,
      "outputs": [
        {
          "output_type": "execute_result",
          "data": {
            "text/plain": [
              "120"
            ]
          },
          "metadata": {},
          "execution_count": 10
        }
      ]
    },
    {
      "cell_type": "code",
      "source": [
        "##Imprecion de Variables y funciones\n",
        "n = 3 # Numero enteror\n",
        "address = \"221b Baker Street, NW1 6XE, London\" # direccion\n",
        "address\n",
        "employee = {'age': 45,'role': 'CTO','SSN': 'AB1234567',}\n",
        "print(n)\n"
      ],
      "metadata": {
        "colab": {
          "base_uri": "https://localhost:8080/"
        },
        "id": "udbWzRKMsXgU",
        "outputId": "ef867a2c-215f-45b8-96cd-7e1954a11728"
      },
      "execution_count": null,
      "outputs": [
        {
          "output_type": "stream",
          "name": "stdout",
          "text": [
            "3\n"
          ]
        }
      ]
    },
    {
      "cell_type": "code",
      "source": [
        "##Definicion de funciones\n",
        "# definicon una funcion como local\n",
        "def local():\n",
        "  m=7\n",
        "  print(m)\n",
        "# Definimos m como fucion local\n",
        "m=5\n",
        "# llamamos o ejecutamos la funcion local\n",
        "local()\n",
        "print(m)\n"
      ],
      "metadata": {
        "colab": {
          "base_uri": "https://localhost:8080/"
        },
        "id": "IBSndlQhtrwU",
        "outputId": "de1dc95b-417f-44be-8a2d-cf881346578e"
      },
      "execution_count": null,
      "outputs": [
        {
          "output_type": "stream",
          "name": "stdout",
          "text": [
            "7\n",
            "5\n"
          ]
        }
      ]
    },
    {
      "cell_type": "code",
      "source": [
        "##segundo ejemplo de definicion\n",
        "def local():\n",
        "     print('imprimiendo desde el ambito local',m)\n",
        "m = 5\n",
        "print('Imprimiendo el ambito local',m)\n",
        "local()\n"
      ],
      "metadata": {
        "colab": {
          "base_uri": "https://localhost:8080/"
        },
        "id": "hX70_FuqvA2n",
        "outputId": "68697084-4b8e-4216-e6e8-18149b65f838"
      },
      "execution_count": null,
      "outputs": [
        {
          "output_type": "stream",
          "name": "stdout",
          "text": [
            "Imprimiendo el ambito local 5\n",
            "imprimiendo desde el ambito local 5\n"
          ]
        }
      ]
    },
    {
      "cell_type": "code",
      "source": [
        "#tercer ejemplo de definicion\n",
        "def enclosing_func():\n",
        "  m=13\n",
        "  def local():\n",
        "   print('imprimiendo desde el ambito local',m)\n",
        "local()\n",
        "m = 5\n",
        "print('imprimiendo desde el ambito local',m)\n",
        "enclosing_func()"
      ],
      "metadata": {
        "colab": {
          "base_uri": "https://localhost:8080/"
        },
        "id": "P_pxTvo2wVil",
        "outputId": "32b4075f-957e-4dbd-e0b0-7a878ff8c090"
      },
      "execution_count": null,
      "outputs": [
        {
          "output_type": "stream",
          "name": "stdout",
          "text": [
            "imprimiendo desde el ambito local 5\n",
            "imprimiendo desde el ambito local 5\n"
          ]
        }
      ]
    },
    {
      "cell_type": "code",
      "source": [
        "#definicion de clase\n",
        "class Bike:\n",
        "  def __init__(self, colour, frame_material):\n",
        "    self.colour = colour\n",
        "    self.frame_material = frame_material\n",
        "  def brake(self):\n",
        "    print(\"Altoo!\")\n",
        "red_bike = Bike('Rojo', 'Fibra de carbono')\n",
        "blue_bike = Bike('Azul', 'Acero')\n",
        "\n",
        "print(red_bike.colour) # imprime color rojo\n",
        "print(red_bike.frame_material) # imprime fibra de carbono\n",
        "print(blue_bike.colour) # imprime color azul\n",
        "print(blue_bike.frame_material) #imprime acero\n",
        "# opcion de frenado\n",
        "red_bike.brake()"
      ],
      "metadata": {
        "colab": {
          "base_uri": "https://localhost:8080/"
        },
        "id": "XXoehGXWxGH6",
        "outputId": "70dba0a6-8985-4a7b-9e17-d0a9273f88c1"
      },
      "execution_count": null,
      "outputs": [
        {
          "output_type": "stream",
          "name": "stdout",
          "text": [
            "Rojo\n",
            "Fibra de carbono\n",
            "Azul\n",
            "Acero\n",
            "Altoo!\n"
          ]
        }
      ]
    }
  ]
}