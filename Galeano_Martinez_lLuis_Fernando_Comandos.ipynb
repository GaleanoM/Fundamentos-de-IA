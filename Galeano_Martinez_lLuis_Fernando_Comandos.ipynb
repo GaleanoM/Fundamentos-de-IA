{
  "nbformat": 4,
  "nbformat_minor": 0,
  "metadata": {
    "colab": {
      "provenance": [],
      "authorship_tag": "ABX9TyPwdDUPhqODg5ppeWyLCnlq",
      "include_colab_link": true
    },
    "kernelspec": {
      "name": "python3",
      "display_name": "Python 3"
    },
    "language_info": {
      "name": "python"
    }
  },
  "cells": [
    {
      "cell_type": "markdown",
      "metadata": {
        "id": "view-in-github",
        "colab_type": "text"
      },
      "source": [
        "<a href=\"https://colab.research.google.com/github/GaleanoM/Fundamentos-de-IA/blob/main/Galeano_Martinez_lLuis_Fernando_Comandos.ipynb\" target=\"_parent\"><img src=\"https://colab.research.google.com/assets/colab-badge.svg\" alt=\"Open In Colab\"/></a>"
      ]
    },
    {
      "cell_type": "code",
      "source": [],
      "metadata": {
        "id": "h2F8j7R6mkgo"
      },
      "execution_count": null,
      "outputs": []
    },
    {
      "cell_type": "markdown",
      "source": [
        "##**Nombre**:Luis Fernando Galeano Martinez\n",
        "##**Titulo**:Comando en Python\n",
        "##**Maestra**:Jessica Sarahí Méndez Rincón\n",
        "##**Materia**:Fundamentos de Inteligencia Artificial\n",
        "##**Cuarto** Semestre IA"
      ],
      "metadata": {
        "id": "3F_Vb2K-ntzk"
      }
    },
    {
      "cell_type": "code",
      "source": [
        "#Operaciones Basicas\n",
        "a=3 + 7\n",
        "print(a)\n",
        "b=10 / 4\n",
        "print(b)\n",
        "c=2**1024\n",
        "print(c)\n"
      ],
      "metadata": {
        "colab": {
          "base_uri": "https://localhost:8080/"
        },
        "id": "gSjKPfMFqi9K",
        "outputId": "20c4998e-dd37-403f-dfb9-eb62afebdb05"
      },
      "execution_count": null,
      "outputs": [
        {
          "output_type": "stream",
          "name": "stdout",
          "text": [
            "10\n",
            "2.5\n",
            "179769313486231590772930519078902473361797697894230657273430081157732675805500963132708477322407536021120113879871393357658789768814416622492847430639474124377767893424865485276302219601246094119453082952085005768838150682342462881473913110540827237163350510684586298239947245938479716304835356329624224137216\n"
          ]
        }
      ]
    },
    {
      "cell_type": "code",
      "source": [
        "##En este codigo aprendemos todas las operaciones matemáticas básicas con numeros enteros\n",
        "a=14\n",
        "b=3\n",
        "c=a+b\n",
        "c=a-b\n",
        "c=a*b\n",
        "c=a/b\n",
        "c=a%b\n",
        "c=a**b\n",
        "print(c)"
      ],
      "metadata": {
        "colab": {
          "base_uri": "https://localhost:8080/"
        },
        "id": "xXH9ueTwn6Kt",
        "outputId": "449917f7-1e0b-4702-edb8-c1c854fdbe2a"
      },
      "execution_count": null,
      "outputs": [
        {
          "output_type": "stream",
          "name": "stdout",
          "text": [
            "2744\n"
          ]
        }
      ]
    },
    {
      "cell_type": "code",
      "source": [
        "##Divicion con numeros negativos\n",
        "a=7\n",
        "b=4\n",
        "c=a/b\n",
        "print(c)\n",
        "c=b/a\n",
        "print(c)\n",
        "c=-a/7\n",
        "print(c)\n",
        "c=-b/a\n",
        "print(c)"
      ],
      "metadata": {
        "colab": {
          "base_uri": "https://localhost:8080/"
        },
        "id": "VREfjHDtpXfH",
        "outputId": "c9535535-b614-4259-dcf0-1962de97ca34"
      },
      "execution_count": null,
      "outputs": [
        {
          "output_type": "stream",
          "name": "stdout",
          "text": [
            "1.75\n",
            "0.5714285714285714\n",
            "-1.0\n",
            "-0.5714285714285714\n"
          ]
        }
      ]
    },
    {
      "cell_type": "code",
      "source": [
        "##Importacion de una funciones y sacar factorial\n",
        "from math import factorial\n",
        "factorial(5)\n"
      ],
      "metadata": {
        "colab": {
          "base_uri": "https://localhost:8080/"
        },
        "id": "E0Y4UOkur90U",
        "outputId": "d3a2ccc4-7dc0-4c17-8126-f6e3ca816e79"
      },
      "execution_count": null,
      "outputs": [
        {
          "output_type": "execute_result",
          "data": {
            "text/plain": [
              "120"
            ]
          },
          "metadata": {},
          "execution_count": 10
        }
      ]
    },
    {
      "cell_type": "code",
      "source": [
        "##Imprecion de Variables y funciones\n",
        "n = 3 # Numero enteror\n",
        "address = \"221b Baker Street, NW1 6XE, London\" # direccion\n",
        "address\n",
        "employee = {'age': 45,'role': 'CTO','SSN': 'AB1234567',}\n",
        "print(n)\n"
      ],
      "metadata": {
        "colab": {
          "base_uri": "https://localhost:8080/"
        },
        "id": "udbWzRKMsXgU",
        "outputId": "ef867a2c-215f-45b8-96cd-7e1954a11728"
      },
      "execution_count": null,
      "outputs": [
        {
          "output_type": "stream",
          "name": "stdout",
          "text": [
            "3\n"
          ]
        }
      ]
    },
    {
      "cell_type": "code",
      "source": [
        "##Definicion de funciones\n",
        "# definicon una funcion como local\n",
        "def local():\n",
        "  m=7\n",
        "  print(m)\n",
        "# Definimos m como fucion local\n",
        "m=5\n",
        "# llamamos o ejecutamos la funcion local\n",
        "local()\n",
        "print(m)\n"
      ],
      "metadata": {
        "colab": {
          "base_uri": "https://localhost:8080/"
        },
        "id": "IBSndlQhtrwU",
        "outputId": "de1dc95b-417f-44be-8a2d-cf881346578e"
      },
      "execution_count": null,
      "outputs": [
        {
          "output_type": "stream",
          "name": "stdout",
          "text": [
            "7\n",
            "5\n"
          ]
        }
      ]
    },
    {
      "cell_type": "code",
      "source": [
        "##segundo ejemplo de definicion\n",
        "def local():\n",
        "     print('imprimiendo desde el ambito local',m)\n",
        "m = 5\n",
        "print('Imprimiendo el ambito local',m)\n",
        "local()\n"
      ],
      "metadata": {
        "colab": {
          "base_uri": "https://localhost:8080/"
        },
        "id": "hX70_FuqvA2n",
        "outputId": "68697084-4b8e-4216-e6e8-18149b65f838"
      },
      "execution_count": null,
      "outputs": [
        {
          "output_type": "stream",
          "name": "stdout",
          "text": [
            "Imprimiendo el ambito local 5\n",
            "imprimiendo desde el ambito local 5\n"
          ]
        }
      ]
    },
    {
      "cell_type": "code",
      "source": [
        "#tercer ejemplo de definicion\n",
        "def enclosing_func():\n",
        "  m=13\n",
        "  def local():\n",
        "   print('imprimiendo desde el ambito local',m)\n",
        "local()\n",
        "m = 5\n",
        "print('imprimiendo desde el ambito local',m)\n",
        "enclosing_func()"
      ],
      "metadata": {
        "colab": {
          "base_uri": "https://localhost:8080/"
        },
        "id": "P_pxTvo2wVil",
        "outputId": "32b4075f-957e-4dbd-e0b0-7a878ff8c090"
      },
      "execution_count": null,
      "outputs": [
        {
          "output_type": "stream",
          "name": "stdout",
          "text": [
            "imprimiendo desde el ambito local 5\n",
            "imprimiendo desde el ambito local 5\n"
          ]
        }
      ]
    },
    {
      "cell_type": "code",
      "source": [
        "#definicion de clase\n",
        "class Bike:\n",
        "  def __init__(self, colour, frame_material):\n",
        "    self.colour = colour\n",
        "    self.frame_material = frame_material\n",
        "  def brake(self):\n",
        "    print(\"Altoo!\")\n",
        "red_bike = Bike('Rojo', 'Fibra de carbono')\n",
        "blue_bike = Bike('Azul', 'Acero')\n",
        "\n",
        "print(red_bike.colour) # imprime color rojo\n",
        "print(red_bike.frame_material) # imprime fibra de carbono\n",
        "print(blue_bike.colour) # imprime color azul\n",
        "print(blue_bike.frame_material) #imprime acero\n",
        "# opcion de frenado\n",
        "red_bike.brake()"
      ],
      "metadata": {
        "colab": {
          "base_uri": "https://localhost:8080/"
        },
        "id": "XXoehGXWxGH6",
        "outputId": "70dba0a6-8985-4a7b-9e17-d0a9273f88c1"
      },
      "execution_count": null,
      "outputs": [
        {
          "output_type": "stream",
          "name": "stdout",
          "text": [
            "Rojo\n",
            "Fibra de carbono\n",
            "Azul\n",
            "Acero\n",
            "Altoo!\n"
          ]
        }
      ]
    },
    {
      "cell_type": "markdown",
      "source": [
        "# ***Ejercicios*** del PDF 1.3"
      ],
      "metadata": {
        "id": "FIYExb7nNlb4"
      }
    },
    {
      "cell_type": "code",
      "source": [
        "#cOMPROBACIONDE ARCHIVOS O DIRECTORIOS\n",
        "from pathlib import Path\n",
        "p = Path('HOLA.txt')\n",
        "path = p.parent.absolute()\n",
        "print(p.is_file())\n",
        "print(path)\n",
        "print(path.is_dir())\n",
        "q = Path('/Users/fab/srv/lpp3e/ch08/files')\n",
        "print(q.is_dir())"
      ],
      "metadata": {
        "colab": {
          "base_uri": "https://localhost:8080/"
        },
        "id": "p_jNG8W5NtSe",
        "outputId": "5d6276eb-d925-4029-a5ad-2734b49876a0"
      },
      "execution_count": 3,
      "outputs": [
        {
          "output_type": "stream",
          "name": "stdout",
          "text": [
            "False\n",
            "/content\n",
            "True\n",
            "False\n"
          ]
        }
      ]
    },
    {
      "cell_type": "code",
      "source": [
        "#Notacion de objetos o JSON\n",
        "import sys\n",
        "import json\n",
        "data = {\n",
        " 'big_number': 2 ** 3141,\n",
        " 'max_float': sys.float_info.max,\n",
        " 'a_list': [2, 3, 5, 7],\n",
        "}\n",
        "json_data = json.dumps(data)\n",
        "data_out = json.loads(json_data)\n",
        "assert data == data_out"
      ],
      "metadata": {
        "id": "5K9nhaRHO-Ac"
      },
      "execution_count": 9,
      "outputs": []
    },
    {
      "cell_type": "code",
      "source": [
        "#Imprecion de cadena JSON\n",
        "info = {\n",
        " 'full_name': 'Sherlock Holmes',\n",
        " 'address': {\n",
        " 'street': '221B Baker St',\n",
        " 'zip': 'NW1 6XE',\n",
        " 'city': 'London',\n",
        " 'country': 'UK',\n",
        " }\n",
        "}\n",
        "print(json.dumps(info, indent=2, sort_keys=True))\n"
      ],
      "metadata": {
        "colab": {
          "base_uri": "https://localhost:8080/"
        },
        "id": "xBh68djrQmAv",
        "outputId": "fc795966-4b47-45c3-fd92-1d8616fbe125"
      },
      "execution_count": 10,
      "outputs": [
        {
          "output_type": "stream",
          "name": "stdout",
          "text": [
            "{\n",
            "  \"address\": {\n",
            "    \"city\": \"London\",\n",
            "    \"country\": \"UK\",\n",
            "    \"street\": \"221B Baker St\",\n",
            "    \"zip\": \"NW1 6XE\"\n",
            "  },\n",
            "  \"full_name\": \"Sherlock Holmes\"\n",
            "}\n"
          ]
        }
      ]
    },
    {
      "cell_type": "code",
      "source": [
        "#Codificar numeros complejos con JSON\n",
        "import json\n",
        "class ComplexEncoder(json.JSONEncoder):\n",
        " def default(self, obj):\n",
        "  print(f\"ComplexEncoder.default: {obj=}\")\n",
        "  if isinstance(obj, complex):\n",
        "      return {\n",
        " '_meta': '_complex',\n",
        " 'num': [obj.real, obj.imag],\n",
        " }\n",
        "  return super().default(obj)\n",
        "data = {\n",
        " 'an_int': 42,\n",
        " 'a_float': 3.14159265,\n",
        " 'a_complex': 3 + 4j,\n",
        "}\n",
        "json_data = json.dumps(data, cls=ComplexEncoder)\n",
        "print(json_data)\n",
        "def object_hook(obj):\n",
        "    print(f\"object_hook: {obj=}\")\n",
        "    try:\n",
        "          if obj['_meta'] == '_complex':\n",
        "           return complex(*obj['num'])\n",
        "    except KeyError:\n",
        "       return obj\n",
        "data_out = json.loads(json_data, object_hook=object_hook)\n",
        "print(data_out)"
      ],
      "metadata": {
        "colab": {
          "base_uri": "https://localhost:8080/"
        },
        "id": "D9aVVii6Q7RS",
        "outputId": "c70b8e87-922a-4169-d8e5-ebead8fe8579"
      },
      "execution_count": 14,
      "outputs": [
        {
          "output_type": "stream",
          "name": "stdout",
          "text": [
            "ComplexEncoder.default: obj=(3+4j)\n",
            "{\"an_int\": 42, \"a_float\": 3.14159265, \"a_complex\": {\"_meta\": \"_complex\", \"num\": [3.0, 4.0]}}\n",
            "object_hook: obj={'_meta': '_complex', 'num': [3.0, 4.0]}\n",
            "object_hook: obj={'an_int': 42, 'a_float': 3.14159265, 'a_complex': (3+4j)}\n",
            "{'an_int': 42, 'a_float': 3.14159265, 'a_complex': (3+4j)}\n"
          ]
        }
      ]
    },
    {
      "cell_type": "code",
      "source": [
        "#Ejompo complejo de fecha y hora Jscon\n",
        "import json\n",
        "from datetime import datetime, timedelta, timezone\n",
        "now = datetime.now()\n",
        "now_tz = datetime.now(tz=timezone(timedelta(hours=1)))\n",
        "class DatetimeEncoder(json.JSONEncoder):\n",
        "      def default(self, obj):\n",
        "          if isinstance(obj, datetime):\n",
        "              try:\n",
        "                   off = obj.utcoffset().seconds\n",
        "              except AttributeError:\n",
        "                  off = None\n",
        "              return {\n",
        " '_meta': '_datetime',\n",
        " 'data': obj.timetuple()[:6] + (obj.microsecond, ),\n",
        " 'utcoffset': off,\n",
        " }\n",
        "          return super().default(obj)\n",
        "data = {\n",
        " 'an_int': 42,\n",
        " 'a_float': 3.14159265,\n",
        " 'a_datetime': now,\n",
        " 'a_datetime_tz': now_tz,\n",
        "}\n",
        "json_data = json.dumps(data, cls=DatetimeEncoder)\n",
        "print(json_data)"
      ],
      "metadata": {
        "colab": {
          "base_uri": "https://localhost:8080/"
        },
        "id": "zV-QsZbHSEYP",
        "outputId": "89c29789-61aa-4471-876e-192025d9dd57"
      },
      "execution_count": 16,
      "outputs": [
        {
          "output_type": "stream",
          "name": "stdout",
          "text": [
            "{\"an_int\": 42, \"a_float\": 3.14159265, \"a_datetime\": {\"_meta\": \"_datetime\", \"data\": [2023, 9, 17, 3, 59, 59, 120320], \"utcoffset\": null}, \"a_datetime_tz\": {\"_meta\": \"_datetime\", \"data\": [2023, 9, 17, 4, 59, 59, 120408], \"utcoffset\": 3600}}\n"
          ]
        }
      ]
    },
    {
      "cell_type": "code",
      "source": [
        "#Secuencia de memoria\n",
        "import io\n",
        "stream = io.StringIO()\n",
        "stream.write('Aprendiendo programacion en python.\\n')\n",
        "print('Conviertete en un ninja de python!', file=stream)\n",
        "contents = stream.getvalue()\n",
        "print(contents)\n",
        "stream.close()"
      ],
      "metadata": {
        "colab": {
          "base_uri": "https://localhost:8080/"
        },
        "id": "UZUjF1uqTgtM",
        "outputId": "ce7ebb38-c1fa-4e3c-cf2d-505b56984b6d"
      },
      "execution_count": 18,
      "outputs": [
        {
          "output_type": "stream",
          "name": "stdout",
          "text": [
            "Aprendiendo programacion en python.\n",
            "Conviertete en un ninja de python!\n",
            "\n"
          ]
        }
      ]
    },
    {
      "cell_type": "code",
      "source": [
        "#Como realizar  solicitudes HTTP\n",
        "import requests\n",
        "urls = {\n",
        "    \"get\": \"https://httpbin.org/get?t=learn+python+programming\",\n",
        "    \"headers\": \"https://httpbin.org/headers\",\n",
        "    \"ip\": \"https://httpbin.org/ip\",\n",
        "    \"user-agent\": \"https://httpbin.org/user-agent\",\n",
        "    \"UUID\": \"https://httpbin.org/uuid\",\n",
        "   \"JSON\": \"https://httpbin.org/json\",\n",
        "}\n",
        "def get_content(title, url):\n",
        " resp = requests.get(url)\n",
        " print(f\"Response for {title}\")\n",
        " print(resp.json())\n",
        "for title, url in urls.items():\n",
        " get_content(title, url)\n",
        " print(\"-\" * 40)"
      ],
      "metadata": {
        "colab": {
          "base_uri": "https://localhost:8080/"
        },
        "id": "k_uZPPowULgg",
        "outputId": "facfaa18-70e3-498c-8b64-4f1bf9dc86a3"
      },
      "execution_count": 19,
      "outputs": [
        {
          "output_type": "stream",
          "name": "stdout",
          "text": [
            "Response for get\n",
            "{'args': {'t': 'learn python programming'}, 'headers': {'Accept': '*/*', 'Accept-Encoding': 'gzip, deflate', 'Host': 'httpbin.org', 'User-Agent': 'python-requests/2.31.0', 'X-Amzn-Trace-Id': 'Root=1-65067b33-4c9963b115243454072e35c7'}, 'origin': '34.86.38.23', 'url': 'https://httpbin.org/get?t=learn+python+programming'}\n",
            "----------------------------------------\n",
            "Response for headers\n",
            "{'headers': {'Accept': '*/*', 'Accept-Encoding': 'gzip, deflate', 'Host': 'httpbin.org', 'User-Agent': 'python-requests/2.31.0', 'X-Amzn-Trace-Id': 'Root=1-65067b33-6b53acac10b27d494c88ff12'}}\n",
            "----------------------------------------\n",
            "Response for ip\n",
            "{'origin': '34.86.38.23'}\n",
            "----------------------------------------\n",
            "Response for user-agent\n",
            "{'user-agent': 'python-requests/2.31.0'}\n",
            "----------------------------------------\n",
            "Response for UUID\n",
            "{'uuid': '67774742-c074-4c77-a114-dd1ca7dbefaf'}\n",
            "----------------------------------------\n",
            "Response for JSON\n",
            "{'slideshow': {'author': 'Yours Truly', 'date': 'date of publication', 'slides': [{'title': 'Wake up to WonderWidgets!', 'type': 'all'}, {'items': ['Why <em>WonderWidgets</em> are great', 'Who <em>buys</em> WonderWidgets'], 'title': 'Overview', 'type': 'all'}], 'title': 'Sample Slide Show'}}\n",
            "----------------------------------------\n"
          ]
        }
      ]
    },
    {
      "cell_type": "code",
      "source": [
        "#Realizando una solicitud con POST\n",
        "import requests\n",
        "url = 'https://httpbin.org/post'\n",
        "data = dict(title='Learn Python Programming')\n",
        "resp = requests.post(url, data=data)\n",
        "print('Response for POST')\n",
        "print(resp.json())"
      ],
      "metadata": {
        "colab": {
          "base_uri": "https://localhost:8080/"
        },
        "id": "Lfc5yL03Ufop",
        "outputId": "146f6507-b48c-4fc3-f41f-1452de0d4707"
      },
      "execution_count": 20,
      "outputs": [
        {
          "output_type": "stream",
          "name": "stdout",
          "text": [
            "Response for POST\n",
            "{'args': {}, 'data': '', 'files': {}, 'form': {'title': 'Learn Python Programming'}, 'headers': {'Accept': '*/*', 'Accept-Encoding': 'gzip, deflate', 'Content-Length': '30', 'Content-Type': 'application/x-www-form-urlencoded', 'Host': 'httpbin.org', 'User-Agent': 'python-requests/2.31.0', 'X-Amzn-Trace-Id': 'Root=1-65067bea-1728669025486f787f3f22df'}, 'json': None, 'origin': '34.86.38.23', 'url': 'https://httpbin.org/post'}\n"
          ]
        }
      ]
    },
    {
      "cell_type": "code",
      "source": [
        "#Nueva fun con y erializar datos con pickle\n",
        "import pickle\n",
        "from dataclasses import dataclass\n",
        "@dataclass\n",
        "class Person:\n",
        " Nombre: str\n",
        " Apellido: str\n",
        " id: int\n",
        " def greet(self):\n",
        "    print(f'Hola, yo soy {self.Nombre} {self.Apellido}'\n",
        " f' y mi ID es: {self.id}')\n",
        "people = [ Person('Obi-Wan', 'Kenobi', 123),\n",
        " Person('Anakin', 'Skywalker', 456),\n",
        "]\n",
        "# Guarda datos en forma binaria\n",
        "with open('data.pickle', 'wb') as stream:\n",
        " pickle.dump(people, stream)\n",
        "# carga datos desde el archivo\n",
        "with open('data.pickle', 'rb') as stream:\n",
        " peeps = pickle.load(stream)\n",
        "for person in peeps:\n",
        " person.greet()"
      ],
      "metadata": {
        "colab": {
          "base_uri": "https://localhost:8080/"
        },
        "id": "z8GBvW-iVbfT",
        "outputId": "4973146b-cc04-4f08-9078-ee3d8ad05508"
      },
      "execution_count": 24,
      "outputs": [
        {
          "output_type": "stream",
          "name": "stdout",
          "text": [
            "Hola, yo soy Obi-Wan Kenobi y mi ID es: 123\n",
            "Hola, yo soy Anakin Skywalker y mi ID es: 456\n"
          ]
        }
      ]
    },
    {
      "cell_type": "code",
      "source": [
        "#Guardar datos con estanderia\n",
        "import shelve\n",
        "class Person:\n",
        "     def __init__(self, name, id):\n",
        "        self.name = name\n",
        "        self.id = id\n",
        "with shelve.open('shelf1.shelve') as db:\n",
        "    db['obi1'] = Person('Obi-Wan', 123)\n",
        "    db['ani'] = Person('Anakin', 456)\n",
        "    db['a_list'] = [2, 3, 5]\n",
        "    db['delete_me'] = 'we will have to delete this one...'\n",
        "    print(list(db.keys())) # 'ani', 'delete_me', 'a_list', 'obi1']\n",
        "    del db['delete_me'] # gone!\n",
        "    print(list(db.keys())) # ['ani', 'a_list', 'obi1']\n",
        "    print('delete_me' in db) # False\n",
        "    print('ani' in db) # True\n",
        "    a_list = db['a_list']\n",
        "    a_list.append(7)\n",
        "    db['a_list'] = a_list\n",
        "    print(db['a_list'])"
      ],
      "metadata": {
        "colab": {
          "base_uri": "https://localhost:8080/"
        },
        "id": "RJ5TBOgMbBC5",
        "outputId": "570f9f10-b97b-435a-ec31-4409ff1fbd14"
      },
      "execution_count": 25,
      "outputs": [
        {
          "output_type": "stream",
          "name": "stdout",
          "text": [
            "['a_list', 'ani', 'delete_me', 'obi1']\n",
            "['a_list', 'ani', 'obi1']\n",
            "False\n",
            "True\n",
            "[2, 3, 5, 7]\n"
          ]
        }
      ]
    },
    {
      "cell_type": "code",
      "source": [
        "#Ejemplo de como guardar datos en una base de datos usando SQL\n",
        "from sqlalchemy.ext.declarative import declarative_base\n",
        "from sqlalchemy import (\n",
        " Column, Integer, String, ForeignKey, create_engine)\n",
        "from sqlalchemy.orm import relationship\n",
        "engine = create_engine('sqlite:///:memory:')\n",
        "Base = declarative_base()\n",
        "class Person(Base):\n",
        " __tablename__ = 'person'\n",
        " id = Column(Integer, primary_key=True)\n",
        " name = Column(String)\n",
        " age = Column(Integer)\n",
        " addresses = relationship(\n",
        " 'Address',\n",
        " back_populates='person',\n",
        " order_by='Address.email',\n",
        " cascade='all, delete-orphan'\n",
        " )\n",
        "def __repr__(self):\n",
        " return f'{self.name}(id={self.id})'\n",
        "class Address(Base):\n",
        " __tablename__ = 'address'\n",
        " id = Column(Integer, primary_key=True)\n",
        " email = Column(String)\n",
        " person_id = Column(ForeignKey('person.id'))\n",
        " person = relationship('Person', back_populates='addresses')\n",
        " def __str__(self):\n",
        "    return self.email\n",
        " __repr__ = __str__\n",
        "Base.metadata.create_all(engine)"
      ],
      "metadata": {
        "colab": {
          "base_uri": "https://localhost:8080/"
        },
        "id": "J02mxBaTbYVt",
        "outputId": "bb5626c9-e3ee-4220-fc86-24b446252d88"
      },
      "execution_count": 26,
      "outputs": [
        {
          "output_type": "stream",
          "name": "stderr",
          "text": [
            "<ipython-input-26-07b3acaa2d7b>:6: MovedIn20Warning: The ``declarative_base()`` function is now available as sqlalchemy.orm.declarative_base(). (deprecated since: 2.0) (Background on SQLAlchemy 2.0 at: https://sqlalche.me/e/b8d9)\n",
            "  Base = declarative_base()\n"
          ]
        }
      ]
    },
    {
      "cell_type": "code",
      "source": [],
      "metadata": {
        "id": "r3Ufe_c5S5Lv"
      },
      "execution_count": null,
      "outputs": []
    }
  ]
}